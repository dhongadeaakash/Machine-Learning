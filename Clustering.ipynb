{
 "cells": [
  {
   "cell_type": "code",
   "execution_count": 2,
   "metadata": {
    "collapsed": false
   },
   "outputs": [],
   "source": [
    "import numpy as np\n",
    "import pandas as pd\n",
    "import matplotlib.pyplot as plt\n",
    "from matplotlib import style\n",
    "style.use(\"ggplot\")\n",
    "from sklearn.cluster import KMeans\n",
    "from sklearn.metrics import accuracy_score\n",
    "from sklearn.cross_validation import train_test_split\n",
    "import warnings\n",
    "warnings.simplefilter('ignore')"
   ]
  },
  {
   "cell_type": "code",
   "execution_count": 52,
   "metadata": {
    "collapsed": false
   },
   "outputs": [],
   "source": [
    "df=pd.read_csv('https://archive.ics.uci.edu/ml/machine-learning-databases/water-treatment/water-treatment.data')"
   ]
  },
  {
   "cell_type": "code",
   "execution_count": 53,
   "metadata": {
    "collapsed": false
   },
   "outputs": [
    {
     "data": {
      "text/plain": [
       "(526, 39)"
      ]
     },
     "execution_count": 53,
     "metadata": {},
     "output_type": "execute_result"
    }
   ],
   "source": [
    "df.shape"
   ]
  },
  {
   "cell_type": "markdown",
   "metadata": {},
   "source": [
    "     1  Q-E        (input flow to plant)  \n",
    "     2  ZN-E       (input Zinc to plant)\n",
    "     3  PH-E       (input pH to plant) \n",
    "     4  DBO-E      (input Biological demand of oxygen to plant) \n",
    "     5  DQO-E      (input chemical demand of oxygen to plant)\n",
    "     6  SS-E       (input suspended solids to plant)  \n",
    "     7  SSV-E      (input volatile supended solids to plant)\n",
    "     8  SED-E      (input sediments to plant) \n",
    "     9  COND-E     (input conductivity to plant) \n",
    "    10  PH-P       (input pH to primary settler)\n",
    "    11  DBO-P      (input Biological demand of oxygen to primary settler)\n",
    "    12  SS-P       (input suspended solids to primary settler)\n",
    "    13  SSV-P      (input volatile supended solids to primary settler)\n",
    "    14  SED-P      (input sediments to primary settler) \n",
    "    15  COND-P     (input conductivity to primary settler)\n",
    "    16  PH-D       (input pH to secondary settler) \n",
    "    17  DBO-D      (input Biological demand of oxygen to secondary settler)\n",
    "    18  DQO-D      (input chemical demand of oxygen to secondary settler)\n",
    "    19  SS-D       (input suspended solids to secondary settler)\n",
    "    20  SSV-D      (input volatile supended solids to secondary settler)\n",
    "    21  SED-D      (input sediments to secondary settler)  \n",
    "    22  COND-D     (input conductivity to secondary settler) \n",
    "    23  PH-S       (output pH)   \n",
    "    24  DBO-S      (output Biological demand of oxygen)\n",
    "    25  DQO-S      (output chemical demand of oxygen)\n",
    "    26  SS-S       (output suspended solids)\n",
    "    27  SSV-S      (output volatile supended solids) \n",
    "    28  SED-S      (output sediments) \n",
    "    29  COND-S     (output conductivity)\n",
    "    30  RD-DBO-P   (performance input Biological demand of oxygen in primary settler)\n",
    "    31  RD-SS-P    (performance input suspended solids to primary settler)\n",
    "    32  RD-SED-P   (performance input sediments to primary settler)\n",
    "    33  RD-DBO-S   (performance input Biological demand of oxygen to secondary settler)\n",
    "    34  RD-DQO-S   (performance input chemical demand of oxygen to secondary settler)\n",
    "    35  RD-DBO-G   (global performance input Biological demand of oxygen)\n",
    "    36  RD-DQO-G   (global performance input chemical demand of oxygen)\n",
    "    37  RD-SS-G    (global performance input suspended solids) \n",
    "    38  RD-SED-G   (global performance input sediments)\n",
    "\n"
   ]
  },
  {
   "cell_type": "code",
   "execution_count": 70,
   "metadata": {
    "collapsed": false
   },
   "outputs": [],
   "source": [
    "headers= [x for x in range(0,39)]\n",
    "df.columns=headers"
   ]
  },
  {
   "cell_type": "code",
   "execution_count": 62,
   "metadata": {
    "collapsed": false
   },
   "outputs": [
    {
     "data": {
      "text/html": [
       "<div>\n",
       "<table border=\"1\" class=\"dataframe\">\n",
       "  <thead>\n",
       "    <tr style=\"text-align: right;\">\n",
       "      <th></th>\n",
       "      <th>0</th>\n",
       "      <th>1</th>\n",
       "      <th>2</th>\n",
       "      <th>3</th>\n",
       "      <th>4</th>\n",
       "      <th>5</th>\n",
       "      <th>6</th>\n",
       "      <th>7</th>\n",
       "      <th>8</th>\n",
       "      <th>9</th>\n",
       "      <th>...</th>\n",
       "      <th>29</th>\n",
       "      <th>30</th>\n",
       "      <th>31</th>\n",
       "      <th>32</th>\n",
       "      <th>33</th>\n",
       "      <th>34</th>\n",
       "      <th>35</th>\n",
       "      <th>36</th>\n",
       "      <th>37</th>\n",
       "      <th>38</th>\n",
       "    </tr>\n",
       "  </thead>\n",
       "  <tbody>\n",
       "    <tr>\n",
       "      <th>221</th>\n",
       "      <td>D-28/8/90</td>\n",
       "      <td>40933</td>\n",
       "      <td>1.50</td>\n",
       "      <td>7.8</td>\n",
       "      <td>120</td>\n",
       "      <td>303</td>\n",
       "      <td>290</td>\n",
       "      <td>None</td>\n",
       "      <td>4.5</td>\n",
       "      <td>1818</td>\n",
       "      <td>...</td>\n",
       "      <td>1723</td>\n",
       "      <td>37.6</td>\n",
       "      <td>72.8</td>\n",
       "      <td>95.0</td>\n",
       "      <td>87.2</td>\n",
       "      <td>60.4</td>\n",
       "      <td>91.7</td>\n",
       "      <td>74.9</td>\n",
       "      <td>96.6</td>\n",
       "      <td>99.6</td>\n",
       "    </tr>\n",
       "  </tbody>\n",
       "</table>\n",
       "<p>1 rows × 39 columns</p>\n",
       "</div>"
      ],
      "text/plain": [
       "            0      1     2    3    4    5    6     7    8     9   ...     29  \\\n",
       "221  D-28/8/90  40933  1.50  7.8  120  303  290  None  4.5  1818  ...   1723   \n",
       "\n",
       "       30    31    32    33    34    35    36    37    38  \n",
       "221  37.6  72.8  95.0  87.2  60.4  91.7  74.9  96.6  99.6  \n",
       "\n",
       "[1 rows x 39 columns]"
      ]
     },
     "execution_count": 62,
     "metadata": {},
     "output_type": "execute_result"
    }
   ],
   "source": [
    "df.sample()"
   ]
  },
  {
   "cell_type": "code",
   "execution_count": 56,
   "metadata": {
    "collapsed": false
   },
   "outputs": [],
   "source": [
    "df=df.replace('?', df.replace(['?'], [None]))"
   ]
  },
  {
   "cell_type": "code",
   "execution_count": 97,
   "metadata": {
    "collapsed": false
   },
   "outputs": [],
   "source": [
    "# df.isnull().sum()"
   ]
  },
  {
   "cell_type": "code",
   "execution_count": 79,
   "metadata": {
    "collapsed": true
   },
   "outputs": [],
   "source": [
    "# converting to float from string\n",
    "for i in range(1,39):\n",
    "     df[i]=df[i].astype(float)"
   ]
  },
  {
   "cell_type": "code",
   "execution_count": 84,
   "metadata": {
    "collapsed": false
   },
   "outputs": [],
   "source": [
    "for column in range(1,39):\n",
    "    df[column]=df[column].fillna(int(df[column].mean()))\n",
    "    "
   ]
  },
  {
   "cell_type": "code",
   "execution_count": 91,
   "metadata": {
    "collapsed": false
   },
   "outputs": [],
   "source": [
    "df=df.drop(0,axis=1)"
   ]
  },
  {
   "cell_type": "code",
   "execution_count": 92,
   "metadata": {
    "collapsed": true
   },
   "outputs": [],
   "source": [
    "train,test=train_test_split(df,test_size=0.4)"
   ]
  },
  {
   "cell_type": "code",
   "execution_count": 93,
   "metadata": {
    "collapsed": false
   },
   "outputs": [
    {
     "data": {
      "text/plain": [
       "(315, 38)"
      ]
     },
     "execution_count": 93,
     "metadata": {},
     "output_type": "execute_result"
    }
   ],
   "source": [
    "train.shape"
   ]
  },
  {
   "cell_type": "code",
   "execution_count": 94,
   "metadata": {
    "collapsed": false
   },
   "outputs": [
    {
     "data": {
      "text/plain": [
       "(211, 38)"
      ]
     },
     "execution_count": 94,
     "metadata": {},
     "output_type": "execute_result"
    }
   ],
   "source": [
    "test.shape"
   ]
  },
  {
   "cell_type": "code",
   "execution_count": 95,
   "metadata": {
    "collapsed": true
   },
   "outputs": [],
   "source": [
    "colors = [\"g.\",\"r.\",\"c.\",\"y.\",\"k.\",'-c.','r.','g.']"
   ]
  },
  {
   "cell_type": "code",
   "execution_count": 99,
   "metadata": {
    "collapsed": false
   },
   "outputs": [],
   "source": [
    "kmeans6 = KMeans(n_clusters=6)\n",
    "kmeans6.fit(train)\n",
    "\n",
    "centroids = kmeans6.cluster_centers_\n",
    "labels = kmeans6.labels_\n"
   ]
  },
  {
   "cell_type": "code",
   "execution_count": 101,
   "metadata": {
    "collapsed": false
   },
   "outputs": [
    {
     "data": {
      "text/plain": [
       "array([  3.45640357e+04,   2.55478571e+00,   7.80428571e+00,\n",
       "         1.93985714e+02,   4.47285714e+02,   2.34207143e+02,\n",
       "         6.36678571e+01,   5.16142857e+00,   1.54025714e+03,\n",
       "         7.83714286e+00,   2.17735714e+02,   2.62871429e+02,\n",
       "         6.19657143e+01,   5.70428571e+00,   1.54566429e+03,\n",
       "         7.83142857e+00,   1.30700000e+02,   2.86264286e+02,\n",
       "         9.57857143e+01,   7.49221429e+01,   4.31428571e-01,\n",
       "         1.55352857e+03,   7.71928571e+00,   1.91785714e+01,\n",
       "         8.59785714e+01,   1.99928571e+01,   8.14000000e+01,\n",
       "         2.48571429e-02,   1.54573571e+03,   3.87628571e+01,\n",
       "         6.04107143e+01,   9.10771429e+01,   8.45428571e+01,\n",
       "         6.97550000e+01,   8.94864286e+01,   8.02078571e+01,\n",
       "         9.07321429e+01,   9.93164286e+01])"
      ]
     },
     "execution_count": 101,
     "metadata": {},
     "output_type": "execute_result"
    }
   ],
   "source": [
    "centroids[0]"
   ]
  },
  {
   "cell_type": "code",
   "execution_count": 106,
   "metadata": {
    "collapsed": false
   },
   "outputs": [
    {
     "data": {
      "text/plain": [
       "array([0, 0, 2, 5, 0, 0, 0, 2, 3, 0, 0, 0, 0, 0, 2, 2, 0, 3, 2, 5, 2, 4, 0,\n",
       "       0, 4, 4, 4, 2, 0, 0, 2, 2, 0, 0, 4, 0, 3, 0, 0, 5, 2, 0, 0, 0, 2, 0,\n",
       "       1, 3, 0, 5, 0, 0, 1, 0, 0, 0, 0, 3, 4, 0, 5, 4, 0, 4, 0, 1, 5, 2, 1,\n",
       "       4, 0, 0, 2, 4, 0, 4, 0, 4, 4, 3, 2, 3, 1, 0, 0, 4, 0, 0, 0, 4, 0, 0,\n",
       "       2, 0, 0, 0, 1, 2, 3, 3, 0, 0, 0, 0, 0, 3, 0, 4, 0, 0, 1, 3, 0, 0, 3,\n",
       "       0, 2, 3, 3, 4, 0, 0, 0, 0, 5, 3, 0, 0, 0, 0, 2, 2, 0, 3, 2, 4, 5, 4,\n",
       "       0, 0, 4, 0, 3, 0, 0, 3, 4, 3, 4, 4, 0, 0, 2, 3, 2, 4, 4, 2, 3, 3, 3,\n",
       "       3, 2, 5, 0, 0, 2, 0, 4, 3, 5, 0, 0, 3, 0, 0, 4, 3, 0, 0, 0, 3, 0, 0,\n",
       "       4, 0, 0, 3, 1, 3, 1, 4, 4, 2, 3, 2, 4, 0, 2, 0, 2, 3, 5, 4, 3, 4, 0,\n",
       "       2, 0, 0, 4, 2, 1, 4, 0, 4, 3, 3, 1, 2, 3, 4, 0, 0, 0, 4, 0, 0, 0, 2,\n",
       "       0, 3, 0, 5, 2, 0, 3, 4, 4, 0, 4, 4, 4, 4, 2, 3, 4, 4, 0, 0, 4, 0, 4,\n",
       "       4, 2, 2, 1, 0, 3, 3, 3, 0, 2, 0, 0, 0, 1, 0, 4, 2, 0, 0, 0, 0, 0, 2,\n",
       "       0, 4, 0, 2, 0, 0, 0, 0, 4, 3, 0, 0, 2, 0, 4, 4, 0, 4, 0, 2, 0, 5, 2,\n",
       "       0, 0, 0, 0, 4, 0, 2, 3, 4, 0, 4, 3, 0, 2, 0, 0])"
      ]
     },
     "execution_count": 106,
     "metadata": {},
     "output_type": "execute_result"
    }
   ],
   "source": [
    "labels"
   ]
  },
  {
   "cell_type": "code",
   "execution_count": 118,
   "metadata": {
    "collapsed": false
   },
   "outputs": [],
   "source": [
    "df=pd.read_csv(\"https://dl.dropboxusercontent.com/u/75194/stats/data/01_heights_weights_genders.csv\")"
   ]
  },
  {
   "cell_type": "code",
   "execution_count": 122,
   "metadata": {
    "collapsed": false
   },
   "outputs": [
    {
     "data": {
      "text/html": [
       "<div>\n",
       "<table border=\"1\" class=\"dataframe\">\n",
       "  <thead>\n",
       "    <tr style=\"text-align: right;\">\n",
       "      <th></th>\n",
       "      <th>Gender</th>\n",
       "      <th>Height</th>\n",
       "      <th>Weight</th>\n",
       "    </tr>\n",
       "  </thead>\n",
       "  <tbody>\n",
       "    <tr>\n",
       "      <th>3902</th>\n",
       "      <td>Male</td>\n",
       "      <td>76.239367</td>\n",
       "      <td>229.294746</td>\n",
       "    </tr>\n",
       "    <tr>\n",
       "      <th>7542</th>\n",
       "      <td>Female</td>\n",
       "      <td>65.152228</td>\n",
       "      <td>147.691633</td>\n",
       "    </tr>\n",
       "    <tr>\n",
       "      <th>2945</th>\n",
       "      <td>Male</td>\n",
       "      <td>69.893151</td>\n",
       "      <td>200.120674</td>\n",
       "    </tr>\n",
       "    <tr>\n",
       "      <th>2722</th>\n",
       "      <td>Male</td>\n",
       "      <td>73.504268</td>\n",
       "      <td>205.473091</td>\n",
       "    </tr>\n",
       "    <tr>\n",
       "      <th>9153</th>\n",
       "      <td>Female</td>\n",
       "      <td>64.179630</td>\n",
       "      <td>143.859095</td>\n",
       "    </tr>\n",
       "  </tbody>\n",
       "</table>\n",
       "</div>"
      ],
      "text/plain": [
       "      Gender     Height      Weight\n",
       "3902    Male  76.239367  229.294746\n",
       "7542  Female  65.152228  147.691633\n",
       "2945    Male  69.893151  200.120674\n",
       "2722    Male  73.504268  205.473091\n",
       "9153  Female  64.179630  143.859095"
      ]
     },
     "execution_count": 122,
     "metadata": {},
     "output_type": "execute_result"
    }
   ],
   "source": [
    "df.sample(5)"
   ]
  },
  {
   "cell_type": "code",
   "execution_count": 125,
   "metadata": {
    "collapsed": false
   },
   "outputs": [],
   "source": [
    "df.drop(\"Gender\",axis=1,inplace=True)"
   ]
  },
  {
   "cell_type": "code",
   "execution_count": 127,
   "metadata": {
    "collapsed": false
   },
   "outputs": [
    {
     "data": {
      "text/html": [
       "<div>\n",
       "<table border=\"1\" class=\"dataframe\">\n",
       "  <thead>\n",
       "    <tr style=\"text-align: right;\">\n",
       "      <th></th>\n",
       "      <th>Height</th>\n",
       "      <th>Weight</th>\n",
       "    </tr>\n",
       "  </thead>\n",
       "  <tbody>\n",
       "    <tr>\n",
       "      <th>7854</th>\n",
       "      <td>65.238507</td>\n",
       "      <td>125.404933</td>\n",
       "    </tr>\n",
       "    <tr>\n",
       "      <th>2237</th>\n",
       "      <td>66.933414</td>\n",
       "      <td>183.085376</td>\n",
       "    </tr>\n",
       "    <tr>\n",
       "      <th>9904</th>\n",
       "      <td>57.028857</td>\n",
       "      <td>101.202551</td>\n",
       "    </tr>\n",
       "    <tr>\n",
       "      <th>9866</th>\n",
       "      <td>63.531463</td>\n",
       "      <td>131.435989</td>\n",
       "    </tr>\n",
       "    <tr>\n",
       "      <th>6241</th>\n",
       "      <td>66.367877</td>\n",
       "      <td>157.616005</td>\n",
       "    </tr>\n",
       "  </tbody>\n",
       "</table>\n",
       "</div>"
      ],
      "text/plain": [
       "         Height      Weight\n",
       "7854  65.238507  125.404933\n",
       "2237  66.933414  183.085376\n",
       "9904  57.028857  101.202551\n",
       "9866  63.531463  131.435989\n",
       "6241  66.367877  157.616005"
      ]
     },
     "execution_count": 127,
     "metadata": {},
     "output_type": "execute_result"
    }
   ],
   "source": [
    "df.sample(5)"
   ]
  },
  {
   "cell_type": "code",
   "execution_count": 128,
   "metadata": {
    "collapsed": true
   },
   "outputs": [],
   "source": [
    "train,test=train_test_split(df,test_size=0.4)"
   ]
  },
  {
   "cell_type": "code",
   "execution_count": 132,
   "metadata": {
    "collapsed": true
   },
   "outputs": [],
   "source": [
    "kmeans6 = KMeans(n_clusters=2)\n",
    "kmeans6.fit(train)\n",
    "\n",
    "centroids = kmeans6.cluster_centers_\n",
    "labels = kmeans6.labels_\n"
   ]
  },
  {
   "cell_type": "code",
   "execution_count": 133,
   "metadata": {
    "collapsed": false
   },
   "outputs": [
    {
     "data": {
      "text/plain": [
       "array([[  69.40447209,  189.20134417],\n",
       "       [  63.43236515,  134.65138426]])"
      ]
     },
     "execution_count": 133,
     "metadata": {},
     "output_type": "execute_result"
    }
   ],
   "source": [
    "centroids"
   ]
  },
  {
   "cell_type": "code",
   "execution_count": 134,
   "metadata": {
    "collapsed": false
   },
   "outputs": [
    {
     "data": {
      "text/plain": [
       "array([1, 1, 1, ..., 1, 1, 1])"
      ]
     },
     "execution_count": 134,
     "metadata": {},
     "output_type": "execute_result"
    }
   ],
   "source": [
    "labels"
   ]
  },
  {
   "cell_type": "code",
   "execution_count": 137,
   "metadata": {
    "collapsed": true
   },
   "outputs": [],
   "source": [
    "def toList(df):\n",
    "    idx =df.index.tolist()\n",
    "    columns=df.columns\n",
    "    l=[]\n",
    "    for i in idx:\n",
    "        temp=[]\n",
    "        for j in columns:\n",
    "            a=df.get_value(i,j)\n",
    "            temp.append(a)\n",
    "        l.append(temp)\n",
    "    return l"
   ]
  },
  {
   "cell_type": "code",
   "execution_count": 138,
   "metadata": {
    "collapsed": true
   },
   "outputs": [],
   "source": [
    "lis=toList(train)"
   ]
  },
  {
   "cell_type": "code",
   "execution_count": 139,
   "metadata": {
    "collapsed": false
   },
   "outputs": [
    {
     "data": {
      "image/png": "[encoded data removed]",
      "text/plain": [
       "<matplotlib.figure.Figure at 0x1d1b4b99f28>"
      ]
     },
     "metadata": {},
     "output_type": "display_data"
    }
   ],
   "source": [
    "for i in range(len(lis)):\n",
    "#     print(\"coordinate:\",lis[i], \"label:\", labels[i])\n",
    "    plt.plot(lis[i][0], lis[i][1], colors[labels[i]], markersize = 10)\n",
    "# plt.show()\n",
    "\n",
    "plt.scatter(centroids[:, 0],centroids[:, 1], marker = \"x\", s=150, linewidths = 5, zorder = 10)\n",
    "\n",
    "plt.show()"
   ]
  },
  {
   "cell_type": "code",
   "execution_count": null,
   "metadata": {
    "collapsed": true
   },
   "outputs": [],
   "source": []
  }
 ],
 "metadata": {
  "anaconda-cloud": {},
  "kernelspec": {
   "display_name": "Python [default]",
   "language": "python",
   "name": "python3"
  },
  "language_info": {
   "codemirror_mode": {
    "name": "ipython",
    "version": 3
   },
   "file_extension": ".py",
   "mimetype": "text/x-python",
   "name": "python",
   "nbconvert_exporter": "python",
   "pygments_lexer": "ipython3",
   "version": "3.5.2"
  }
 },
 "nbformat": 4,
 "nbformat_minor": 1
}
